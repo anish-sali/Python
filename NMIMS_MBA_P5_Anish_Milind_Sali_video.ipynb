{
 "cells": [
  {
   "cell_type": "markdown",
   "metadata": {},
   "source": [
    "# NMIMS_MBA_P5_ANISH_MILIND_SALI "
   ]
  },
  {
   "cell_type": "markdown",
   "metadata": {},
   "source": [
    "### Task 1 - Store the data"
   ]
  },
  {
   "cell_type": "code",
   "execution_count": 1,
   "metadata": {},
   "outputs": [],
   "source": [
    "## Storing Circle & Circle_ID into a dictionary\n",
    "Circle_ID = {'AP':'Andhra Pradesh & Telangana', 'AS':'Assam', 'BR':'Bihar & Jharkhand', 'DL':'Delhi', 'GJ':'Gujrat', 'HP':'Himachal Pradesh', 'HR':'Haryana', 'JK':'Jammu and Kashmir', 'KL':'Kerela and Lakshadweep', 'KA':'Karnatka', 'KO':'Kolkata', 'MH':'Maharashtra & Goa', 'MP':'Madhya Pradesh and Chhattisgarh', 'MU':'Mumbai', 'NE': 'North East', 'OR':'Orissa', 'PB':'Punjab', 'RJ': 'Rajasthan', 'TN':'Tamil Nadu', 'UE': 'UP (East)', 'UW':'UP (West)', 'WB':'West Bengal', 'GB': 'Ghaziabad & Noida'}"
   ]
  },
  {
   "cell_type": "code",
   "execution_count": 2,
   "metadata": {},
   "outputs": [],
   "source": [
    "## Storing Prepaid_Packs in a List\n",
    "Prepaid_Packs= ['Full recharge', 'Talktime Only', 'Data Packs']"
   ]
  },
  {
   "cell_type": "code",
   "execution_count": 3,
   "metadata": {},
   "outputs": [],
   "source": [
    "## Storing prepaid recharge pack plans (f= full recharge, t= talktime only, d= data packs) in dictionaries.\n",
    "f= {'Rs.250':'Unlimited calls(local/national) + 1.5GB data/day + 100 SMS/ day. Val = 28 days','Rs.400':'Unlimited calls(local/national) + 3 GB data/day + 100 SMS/ day. Val = 28 days', 'Rs.450':'Unlimited calls(local/national) + 1.5GB data/day + 100 SMS/ day. Val = 56 days','Rs.500':'Unlimited calls(local/national) + 1.5GB data/day + 100 SMS/ day. Val = 70 days', 'Rs.550':'Unlimited calls(local/national) + 1.5GB data/day + 100 SMS/ day. Val = 77days'}\n",
    "\n",
    "t={'Rs.100':'Talktime: Rs. 82  Val = 28 days', 'Rs.50':'Talktime: Rs. 39  Val = 28 days', 'Rs.30':'Talktime: Rs. 22  Val = 28 days', 'Rs.20':'Talktime: Rs. 14  Val = 28 days', 'Rs.10':'Talktime: Rs. 7  Val = 28 days'}\n",
    "\n",
    "d= {'Rs.1200':'240 GB data Val= 240 days','Rs.600':'72 GB data Val= 70 days','Rs.250':'50 GB data Val= 28 days','Rs.100':'12 GB data Val= 28 days','Rs.50':'6 GB data Val= 28 days'}\n",
    "## Storing Payment methods in a list.\n",
    "p= ['Credit Card', 'Debit Card', 'UPI', 'Net Banking', 'Cash']"
   ]
  },
  {
   "cell_type": "markdown",
   "metadata": {},
   "source": [
    "### Task 2: Input the Details"
   ]
  },
  {
   "cell_type": "code",
   "execution_count": 4,
   "metadata": {},
   "outputs": [
    {
     "name": "stdout",
     "output_type": "stream",
     "text": [
      "Enter Name: Anish Sali\n"
     ]
    }
   ],
   "source": [
    "## Asking the customer to enter details (name, number & circle ID)\n",
    "Name = input('Enter Name: ')"
   ]
  },
  {
   "cell_type": "code",
   "execution_count": 5,
   "metadata": {},
   "outputs": [
    {
     "name": "stdout",
     "output_type": "stream",
     "text": [
      "Enter your Mobile No.: 8962133\n",
      "Invalid Number. Please enter valid number.\n",
      "Enter your Mobile No.: 8390228292\n"
     ]
    }
   ],
   "source": [
    "## Checking whether the user has entered a valid mobile number else asking the user to enter the correct number. \n",
    "## Considering that a valid mobile number is 10 digits only.\n",
    "while 1:\n",
    "    Number = input('Enter your Mobile No.: ')\n",
    "    count = 0\n",
    "    for i in Number:\n",
    "        count+=1\n",
    "    if count==10:\n",
    "        break\n",
    "    print('Invalid Number. Please enter valid number.')    \n",
    "    "
   ]
  },
  {
   "cell_type": "code",
   "execution_count": 6,
   "metadata": {},
   "outputs": [
    {
     "name": "stdout",
     "output_type": "stream",
     "text": [
      "Please select a valid Circle ID from the given options:\n",
      "\n",
      "AP: Andhra Pradesh & Telangana\n",
      "AS: Assam\n",
      "BR: Bihar & Jharkhand\n",
      "DL: Delhi\n",
      "GJ: Gujrat\n",
      "HP: Himachal Pradesh\n",
      "HR: Haryana\n",
      "JK: Jammu and Kashmir\n",
      "KL: Kerela and Lakshadweep\n",
      "KA: Karnatka\n",
      "KO: Kolkata\n",
      "MH: Maharashtra & Goa\n",
      "MP: Madhya Pradesh and Chhattisgarh\n",
      "MU: Mumbai\n",
      "NE: North East\n",
      "OR: Orissa\n",
      "PB: Punjab\n",
      "RJ: Rajasthan\n",
      "TN: Tamil Nadu\n",
      "UE: UP (East)\n",
      "UW: UP (West)\n",
      "WB: West Bengal\n",
      "GB: Ghaziabad & Noida\n"
     ]
    }
   ],
   "source": [
    "## Displaying the circle IDs & circles for the user to choose from.\n",
    "print ('Please select a valid Circle ID from the given options:\\n')\n",
    "\n",
    "for i in Circle_ID:\n",
    "    print(i +': '+ Circle_ID[i])\n",
    "  "
   ]
  },
  {
   "cell_type": "code",
   "execution_count": 7,
   "metadata": {},
   "outputs": [
    {
     "name": "stdout",
     "output_type": "stream",
     "text": [
      "Enter Circle ID: JS\n",
      "Invalid ID. Please enter valid Circle ID.\n",
      "Enter Circle ID: MH\n"
     ]
    }
   ],
   "source": [
    "## Asking the user to choose a valid Circle ID from the above list & \n",
    "## Asking the user to enter the correct Circle ID if he enters a wrong one.\n",
    "while 1:\n",
    "    CID= input('Enter Circle ID: ')\n",
    "    if CID in Circle_ID:\n",
    "        break\n",
    "    print ('Invalid ID. Please enter valid Circle ID.')\n"
   ]
  },
  {
   "cell_type": "markdown",
   "metadata": {},
   "source": [
    "### Task3 - Selecting task & generate bill."
   ]
  },
  {
   "cell_type": "code",
   "execution_count": 8,
   "metadata": {},
   "outputs": [
    {
     "name": "stdout",
     "output_type": "stream",
     "text": [
      "Please select recharge method\n",
      "1. Prepaid\n",
      "2. Postpaid\n",
      "3\n",
      "Invalid Input. Please enter a valid input.\n",
      "Please select recharge method\n",
      "1. Prepaid\n",
      "2. Postpaid\n",
      "1\n",
      "Please select the Recharge Pack:\n",
      "1. Full Recharge\n",
      "2. Talktime Only\n",
      "3. Data Packs\n",
      "5\n",
      "Please select the Recharge Pack:\n",
      "1. Full Recharge\n",
      "2. Talktime Only\n",
      "3. Data Packs\n",
      "3\n",
      "Please select a Data Pack Plan:\n",
      "1. Rs.1200 - 240 GB data Val= 240 days\n",
      "2. Rs.600 - 72 GB data Val= 70 days\n",
      "3. Rs.250 - 50 GB data Val= 28 days\n",
      "4. Rs.100 - 12 GB data Val= 28 days\n",
      "5. Rs.50 - 6 GB data Val= 28 days\n",
      "9\n",
      "Invalid input. Enter a valid Data Pack Plan \n",
      "Please select a Data Pack Plan:\n",
      "1. Rs.1200 - 240 GB data Val= 240 days\n",
      "2. Rs.600 - 72 GB data Val= 70 days\n",
      "3. Rs.250 - 50 GB data Val= 28 days\n",
      "4. Rs.100 - 12 GB data Val= 28 days\n",
      "5. Rs.50 - 6 GB data Val= 28 days\n",
      "1\n"
     ]
    }
   ],
   "source": [
    "## Asking the user to select a recharge method.\n",
    "## Taking the input in the form of serial number associated with the method.\n",
    "## Checking whether a valid recharge method is selected.\n",
    "while 1:\n",
    "    print ('Please select recharge method')\n",
    "    print ('1. Prepaid')\n",
    "    print ('2. Postpaid')\n",
    "    ## Asking the user to select a recharge pack for a prepaid method.\n",
    "    ## Checking whether a valid recharge method is selected.\n",
    "    choice = input()\n",
    "    ## Entering this loop if prepaid method is selected.\n",
    "    if choice == '1':\n",
    "        while 1:\n",
    "            print ('Please select the Recharge Pack:')\n",
    "            print ('1. Full Recharge')\n",
    "            print ('2. Talktime Only')\n",
    "            print ('3. Data Packs')\n",
    "            ## Asking the user to choose a suitable plan from the Full Recharge Plans available.\n",
    "            ## Checking whether a valid recharge plan is selected.\n",
    "            choice2 = input()\n",
    "            ## Entering this loop if Full Recharge Plan is selected by the user.    \n",
    "            if choice2 =='1':\n",
    "                while 1:\n",
    "                    n = 1\n",
    "                    print ('Please select a Full Recharge Plan:')\n",
    "                    ## Displaying the different Full Recharge Plans available.\n",
    "                    for i in f:\n",
    "                        print (str(n)+'. '+i+' - '+f[i])\n",
    "                        n+=1\n",
    "                    ## Asking the user to select a Full Recharge Plan & checking if it is valid.\n",
    "                    ## Creating a variable price to store the price of the selected plan.\n",
    "                    choice3 = input()\n",
    "                    if choice3 == '1':\n",
    "                        price = 250\n",
    "                        break\n",
    "                    elif choice3 == '2':\n",
    "                        price = 400\n",
    "                        break\n",
    "                    elif choice3 == '3':\n",
    "                        price = 450\n",
    "                        break\n",
    "                    elif choice3 == '4':\n",
    "                        price = 500\n",
    "                        break\n",
    "                    elif choice3 == '5':\n",
    "                        price = 550\n",
    "                        break\n",
    "                    print ('Invalid input. Enter a valid Full Recharge Plan ')\n",
    "                break\n",
    "            ## Entering this loop if Talktime Only Plan is selected by the user.\n",
    "            if choice2 =='2':\n",
    "                while 1:\n",
    "                    n = 1\n",
    "                    print ('Please select a Talktime Only Plan:')\n",
    "                    ## Displaying the different Talktime Only Plans available.\n",
    "                    for i in t:\n",
    "                        print (str(n)+'. '+i+' - '+t[i])\n",
    "                        n+=1\n",
    "                    ## Asking the user to select a Talktime Only Plan & checking if it is valid.\n",
    "                    ## Creating a variable price to store the price of the selected plan.\n",
    "                    choice3 = input()\n",
    "                    if choice3 == '1':\n",
    "                        price = 100\n",
    "                        break\n",
    "                    elif choice3 == '2':\n",
    "                        price = 50\n",
    "                        break\n",
    "                    elif choice3 == '3':\n",
    "                        price = 30\n",
    "                        break\n",
    "                    elif choice3 == '4':\n",
    "                        price = 20\n",
    "                        break\n",
    "                    elif choice3 == '5':\n",
    "                        price = 10\n",
    "                        break\n",
    "                    print ('Invalid input. Enter a valid Talktime Only Plan ')\n",
    "                break\n",
    "            ## Entering this loop if Data Pack Plan is selected by the user.    \n",
    "            if choice2 =='3':\n",
    "                while 1:\n",
    "                    n = 1\n",
    "                    print ('Please select a Data Pack Plan:')\n",
    "                    ## Displaying the different Data Pack Plans available.\n",
    "                    for i in d:\n",
    "                        print (str(n)+'. '+i+' - '+d[i])\n",
    "                        n+=1\n",
    "                    ## Asking the user to select a Data Pack Plan & checking if it is valid.\n",
    "                    ## Creating a variable price to store the price of the selected plan.\n",
    "                    choice3 = input()\n",
    "                    if choice3 == '1':\n",
    "                        price = 1200\n",
    "                        break\n",
    "                    elif choice3 == '2':\n",
    "                        price = 600\n",
    "                        break\n",
    "                    elif choice3 == '3':\n",
    "                        price = 250\n",
    "                        break\n",
    "                    elif choice3 == '4':\n",
    "                        price = 100\n",
    "                        break\n",
    "                    elif choice3 == '5':\n",
    "                        price = 50\n",
    "                        break\n",
    "                    print ('Invalid input. Enter a valid Data Pack Plan ')\n",
    "                break\n",
    "        break\n",
    "    ## Entering this loop if postpaid method is selected.    \n",
    "    elif choice=='2':\n",
    "        price = int(input('Enter Bill Amount: '))\n",
    "        break\n",
    "    else:\n",
    "        print ('Invalid Input. Please enter a valid input.')\n",
    "        \n",
    "                        \n",
    "                        "
   ]
  },
  {
   "cell_type": "code",
   "execution_count": 9,
   "metadata": {},
   "outputs": [
    {
     "name": "stdout",
     "output_type": "stream",
     "text": [
      "Please select the Payment Method:\n",
      "1. Credit Card\n",
      "2. Debit Card\n",
      "3. UPI\n",
      "4. Net Banking\n",
      "5. Cash\n",
      "6\n",
      "Select a valid Payment Method.\n",
      "Please select the Payment Method:\n",
      "1. Credit Card\n",
      "2. Debit Card\n",
      "3. UPI\n",
      "4. Net Banking\n",
      "5. Cash\n",
      "3\n"
     ]
    }
   ],
   "source": [
    "## Asking the user to select a payment method & checking whether the entered input is valid.\n",
    "while 1:\n",
    "    print ('Please select the Payment Method:')\n",
    "    print ('1. Credit Card')\n",
    "    print ('2. Debit Card')\n",
    "    print ('3. UPI')\n",
    "    print ('4. Net Banking')\n",
    "    print ('5. Cash')\n",
    "    Pay_method = input()\n",
    "    if int(Pay_method)<1 or int(Pay_method)>5:\n",
    "        print ('Select a valid Payment Method.')\n",
    "    else:\n",
    "        break\n",
    "## Calculating the bill amount considering 18% GST.        \n",
    "bill_amount = price + price*(18/100)\n"
   ]
  },
  {
   "cell_type": "markdown",
   "metadata": {},
   "source": [
    "### Task 4 - Receipt Generation"
   ]
  },
  {
   "cell_type": "code",
   "execution_count": 10,
   "metadata": {},
   "outputs": [
    {
     "name": "stdout",
     "output_type": "stream",
     "text": [
      "Payment Receipt\n",
      "Name: Anish Sali\n",
      "Mobile Number: 8390228292\n",
      "Circle ID: MH\n",
      "Recharge Method: Prepaid Pack\n",
      "Prepaid Pack: Data Packs\n",
      "Plan: 240 GB data Val= 240 days\n",
      "Payment Method: UPI\n",
      "Bill Amount: Rs. 1416.0\n"
     ]
    }
   ],
   "source": [
    "## Displaying the Name, Number & Circle ID of the user on the Receipt generated.\n",
    "print ('Payment Receipt')\n",
    "print ('Name:',Name)\n",
    "print ('Mobile Number:',Number)\n",
    "print ('Circle ID:', CID)\n",
    "\n",
    "## Running this loop to check the recharge methods & respective plans selected by the user & displaying on the Receipt.\n",
    "if choice=='1':\n",
    "    print('Recharge Method: Prepaid Pack')\n",
    "    if choice2=='1':\n",
    "        print('Prepaid Pack: Full Recharge')\n",
    "        print ('Plan:',f['Rs.'+ str(price)])\n",
    "    if choice2=='2':\n",
    "        print('Prepaid Pack: Talktime Only')\n",
    "        print ('Plan:',t['Rs.'+ str(price)])\n",
    "    if choice2=='3':\n",
    "        print('Prepaid Pack: Data Packs')\n",
    "        print ('Plan:',d['Rs.'+ str(price)])\n",
    "if choice=='2':\n",
    "    print('Recharge Method: Postpaid Pack')\n",
    "## Displaying the payment method and the final bill amount on the Receipt generated.\n",
    "print ('Payment Method:',p[int(Pay_method)-1])\n",
    "print ('Bill Amount: Rs.',bill_amount)\n"
   ]
  },
  {
   "cell_type": "markdown",
   "metadata": {},
   "source": [
    "### Task 5 - Video Recording"
   ]
  }
 ],
 "metadata": {
  "kernelspec": {
   "display_name": "Python 3",
   "language": "python",
   "name": "python3"
  },
  "language_info": {
   "codemirror_mode": {
    "name": "ipython",
    "version": 3
   },
   "file_extension": ".py",
   "mimetype": "text/x-python",
   "name": "python",
   "nbconvert_exporter": "python",
   "pygments_lexer": "ipython3",
   "version": "3.7.6"
  }
 },
 "nbformat": 4,
 "nbformat_minor": 4
}
